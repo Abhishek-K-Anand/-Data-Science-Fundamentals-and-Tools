{
 "cells": [
  {
   "cell_type": "markdown",
   "id": "2db28f3e",
   "metadata": {},
   "source": [
    "<div style=\"background-color:#4B0082; color:white; padding:10px; margin:10px 0;\">\n",
    "1. Create a DataFrame with the following data:  \n",
    "\n",
    "data = {  \n",
    "  'Name': ['Alice', 'Bob', 'Charlie', 'Diana', 'Eve'],  \n",
    "  'Age': [24, 27, 22, 32, 29],  \n",
    "  'Department': ['HR', 'Finance', 'IT', 'Marketing', 'HR'],  \n",
    "  'Salary': [45000, 54000, 50000, 62000, 47000]  \n",
    "}  \n",
    "\n",
    "a. Print the first five rows of the DataFrame.  \n",
    "b. Get the summary statistics of the 'Age' and 'Salary' columns.  \n",
    "c. Calculate the average salary of employees in the 'HR' department.\n",
    "</div>\n"
   ]
  },
  {
   "cell_type": "code",
   "execution_count": 1,
   "id": "ad46a6fb",
   "metadata": {},
   "outputs": [
    {
     "name": "stdout",
     "output_type": "stream",
     "text": [
      "First five rows of the DataFrame:\n",
      "       Name  Age Department  Salary\n",
      "0    Alice   24         HR   45000\n",
      "1      Bob   27    Finance   54000\n",
      "2  Charlie   22         IT   50000\n",
      "3    Diana   32  Marketing   62000\n",
      "4      Eve   29         HR   47000\n",
      "------------------------------------------------------------------------\n",
      "\n",
      "Summary Statistics of 'Age' and 'Salary':\n",
      "              Age        Salary\n",
      "count   5.000000      5.000000\n",
      "mean   26.800000  51600.000000\n",
      "std     3.962323   6730.527468\n",
      "min    22.000000  45000.000000\n",
      "25%    24.000000  47000.000000\n",
      "50%    27.000000  50000.000000\n",
      "75%    29.000000  54000.000000\n",
      "max    32.000000  62000.000000\n",
      "------------------------------------------------------------------------\n",
      "\n",
      "Average Salary in HR Department: 46000.0\n"
     ]
    }
   ],
   "source": [
    "import pandas as pd\n",
    "\n",
    "# Creating the DataFrame\n",
    "data = {\n",
    "    'Name': ['Alice', 'Bob', 'Charlie', 'Diana', 'Eve'],\n",
    "    'Age': [24, 27, 22, 32, 29],\n",
    "    'Department': ['HR', 'Finance', 'IT', 'Marketing', 'HR'],\n",
    "    'Salary': [45000, 54000, 50000, 62000, 47000]\n",
    "}\n",
    "\n",
    "df = pd.DataFrame(data)\n",
    "\n",
    "# (a) First five rows of the DataFrame\n",
    "\n",
    "print(\"First five rows of the DataFrame:\\n\", df)\n",
    "\n",
    "print(\"------------------------------------------------------------------------\")\n",
    "\n",
    "# (b) Summary statistics of 'Age' and 'Salary' columns\n",
    "\n",
    "print(\"\\nSummary Statistics of 'Age' and 'Salary':\\n\", df[['Age', 'Salary']].describe())\n",
    "\n",
    "print(\"------------------------------------------------------------------------\")\n",
    "\n",
    "# (c) Calculating the average salary of employees in the 'HR' department\n",
    "\n",
    "hr_avg_salary = df[df['Department'] == 'HR']['Salary'].mean()\n",
    "print(\"\\nAverage Salary in HR Department:\", hr_avg_salary)\n"
   ]
  },
  {
   "cell_type": "markdown",
   "id": "99791cf9",
   "metadata": {},
   "source": [
    "<div style=\"background-color:#00008B; color:white; padding:10px; margin:10px 0;\"> This code creates a table called DataFrame with details about employees like name, age, department, and salary. It first shows the full table with all rows. Then it calculates and displays basic statistics (like average, minimum, maximum) for the Age and Salary columns. Finally, it finds the average salary of only the employees working in the HR department. </div>"
   ]
  },
  {
   "cell_type": "markdown",
   "id": "0f5f2a44",
   "metadata": {},
   "source": [
    "# ============================================================\n"
   ]
  },
  {
   "cell_type": "markdown",
   "id": "12986454",
   "metadata": {},
   "source": [
    "<div style=\"background-color:#4B0082; color:white; padding:10px; margin:10px 0;\">\n",
    "2. Add a new column, 'Bonus', which is 10% of the salary.\n",
    "</div>\n"
   ]
  },
  {
   "cell_type": "code",
   "execution_count": 2,
   "id": "cf5fde37",
   "metadata": {},
   "outputs": [
    {
     "name": "stdout",
     "output_type": "stream",
     "text": [
      "      Name  Age Department  Salary   Bonus\n",
      "0    Alice   24         HR   45000  4500.0\n",
      "1      Bob   27    Finance   54000  5400.0\n",
      "2  Charlie   22         IT   50000  5000.0\n",
      "3    Diana   32  Marketing   62000  6200.0\n",
      "4      Eve   29         HR   47000  4700.0\n"
     ]
    }
   ],
   "source": [
    "# Adding a new column 'Bonus' which is 10% of 'Salary'\n",
    "df['Bonus'] = df['Salary'] * 0.10\n",
    "\n",
    "# Printing the updated DataFrame\n",
    "print(df)"
   ]
  },
  {
   "cell_type": "markdown",
   "id": "681ad86a",
   "metadata": {},
   "source": [
    "<div style=\"background-color:#00008B; color:white; padding:10px; margin:10px 0;\"> This code adds a new column called 'Bonus' to the existing DataFrame. The bonus is calculated as 10% of each employee's salary. After adding this column, it prints the updated table showing the original data along with the new Bonus values. </div>"
   ]
  },
  {
   "cell_type": "markdown",
   "id": "d995c216",
   "metadata": {},
   "source": [
    "# ============================================================"
   ]
  },
  {
   "cell_type": "markdown",
   "id": "989b3ea4",
   "metadata": {},
   "source": [
    "<div style=\"background-color:#4B0082; color:white; padding:10px; margin:10px 0;\">\n",
    "3. Filter the DataFrame to show employees aged between 25 and 30.\n",
    "</div>\n"
   ]
  },
  {
   "cell_type": "code",
   "execution_count": 3,
   "id": "13de60be",
   "metadata": {},
   "outputs": [
    {
     "name": "stdout",
     "output_type": "stream",
     "text": [
      "  Name  Age Department  Salary   Bonus\n",
      "1  Bob   27    Finance   54000  5400.0\n",
      "4  Eve   29         HR   47000  4700.0\n"
     ]
    }
   ],
   "source": [
    "# Filtering employees aged between 25 and 30\n",
    "\n",
    "filtered_df = df[(df['Age'] >= 25) & (df['Age'] <= 30)]\n",
    "\n",
    "# Printing the filtered DataFrame\n",
    "print(filtered_df)"
   ]
  },
  {
   "cell_type": "markdown",
   "id": "3624b87c",
   "metadata": {},
   "source": [
    "<div style=\"background-color:#00008B; color:white; padding:10px; margin:10px 0;\"> This code filters the DataFrame to show only the employees whose age is between 25 and 30, including both ages. It then prints this filtered list so we can see only those employees within this age range. </div>"
   ]
  },
  {
   "cell_type": "markdown",
   "id": "89765e38",
   "metadata": {},
   "source": [
    "# ==========================================================="
   ]
  },
  {
   "cell_type": "markdown",
   "id": "4ef30029",
   "metadata": {},
   "source": [
    "<div style=\"background-color:#4B0082; color:white; padding:10px; margin:10px 0;\">\n",
    "4. Group the data by 'Department' and calculate the average salary for each department.\n",
    "</div>\n"
   ]
  },
  {
   "cell_type": "code",
   "execution_count": 4,
   "id": "321e99a0",
   "metadata": {},
   "outputs": [
    {
     "name": "stdout",
     "output_type": "stream",
     "text": [
      "Department\n",
      "Finance      54000.0\n",
      "HR           46000.0\n",
      "IT           50000.0\n",
      "Marketing    62000.0\n",
      "Name: Salary, dtype: float64\n"
     ]
    }
   ],
   "source": [
    "# Grouping by 'Department' and calculating the average salary\n",
    "avg_salary_by_dept = df.groupby('Department')['Salary'].mean()\n",
    "\n",
    "# Printing the result\n",
    "print(avg_salary_by_dept)"
   ]
  },
  {
   "cell_type": "markdown",
   "id": "3c283814",
   "metadata": {},
   "source": [
    "<div style=\"background-color:#00008B; color:white; padding:10px; margin:10px 0;\"> This code groups the employees based on their 'Department' and calculates the average salary for each department. Then, it prints the average salaries so we can compare how much employees earn on average in different departments. </div>"
   ]
  },
  {
   "cell_type": "markdown",
   "id": "55813a23",
   "metadata": {},
   "source": [
    "# ==========================================================="
   ]
  },
  {
   "cell_type": "markdown",
   "id": "2f517474",
   "metadata": {},
   "source": [
    "<div style=\"background-color:#4B0082; color:white; padding:10px; margin:10px 0;\">\n",
    "5. Sort the DataFrame by 'Salary' in ascending order and save the result to a new CSV file.\n",
    "</div>\n"
   ]
  },
  {
   "cell_type": "code",
   "execution_count": 5,
   "id": "1195a510",
   "metadata": {},
   "outputs": [
    {
     "name": "stdout",
     "output_type": "stream",
     "text": [
      "      Name  Age Department  Salary   Bonus\n",
      "0    Alice   24         HR   45000  4500.0\n",
      "4      Eve   29         HR   47000  4700.0\n",
      "2  Charlie   22         IT   50000  5000.0\n",
      "1      Bob   27    Finance   54000  5400.0\n",
      "3    Diana   32  Marketing   62000  6200.0\n"
     ]
    }
   ],
   "source": [
    "# Sorting the DataFrame by 'Salary' in ascending order\n",
    "sorted_df = df.sort_values(by='Salary', ascending=True)\n",
    "\n",
    "# Saving the sorted DataFrame to a CSV file\n",
    "sorted_df.to_csv('sorted_employees.csv', index=False)\n",
    "\n",
    "# Printing the sorted DataFrame\n",
    "print(sorted_df)"
   ]
  },
  {
   "cell_type": "markdown",
   "id": "beb10657",
   "metadata": {},
   "source": [
    "<div style=\"background-color:#00008B; color:white; padding:10px; margin:10px 0;\"> This code sorts the DataFrame by the 'Salary' column in ascending order, which means from lowest to highest salary. Then, it saves this sorted data into a new CSV file named 'sorted_employees.csv'. Finally, it prints the sorted DataFrame so you can see the result. </div>"
   ]
  },
  {
   "cell_type": "code",
   "execution_count": null,
   "id": "43f1861a",
   "metadata": {},
   "outputs": [],
   "source": []
  }
 ],
 "metadata": {
  "kernelspec": {
   "display_name": "Python 3 (ipykernel)",
   "language": "python",
   "name": "python3"
  },
  "language_info": {
   "codemirror_mode": {
    "name": "ipython",
    "version": 3
   },
   "file_extension": ".py",
   "mimetype": "text/x-python",
   "name": "python",
   "nbconvert_exporter": "python",
   "pygments_lexer": "ipython3",
   "version": "3.11.5"
  }
 },
 "nbformat": 4,
 "nbformat_minor": 5
}
