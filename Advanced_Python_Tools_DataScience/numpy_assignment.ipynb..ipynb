{
 "cells": [
  {
   "cell_type": "markdown",
   "id": "dec12217",
   "metadata": {},
   "source": [
    "<div style=\"background-color:#4B0082; color:white; padding:10px; margin:10px 0;\">\n",
    "1. Create a 1D NumPy array with integers from 1 to 20. Perform the following operations:<br>\n",
    "&nbsp; a. Calculate the sum, mean, median, and standard deviation of the elements in the array.<br>\n",
    "&nbsp; b. Find the indices of elements greater than 10 in the array.\n",
    "</div>\n"
   ]
  },
  {
   "cell_type": "code",
   "execution_count": 1,
   "id": "249ff395",
   "metadata": {},
   "outputs": [
    {
     "name": "stdout",
     "output_type": "stream",
     "text": [
      "Sum: 210\n",
      "Mean: 10.5\n",
      "Median: 10.5\n",
      "Standard Deviation: 5.766281297335398\n",
      "===================================================================\n",
      "Indices of elements greater than 10: [10 11 12 13 14 15 16 17 18 19]\n"
     ]
    }
   ],
   "source": [
    "import numpy as np\n",
    "\n",
    "# Creating a 1D NumPy array with integers from 1 to 20\n",
    "arr = np.arange(1, 21)\n",
    "\n",
    "# a. Calculating sum, mean, median, and standard deviation\n",
    "\n",
    "arr_sum = np.sum(arr)\n",
    "arr_mean = np.mean(arr)\n",
    "arr_median = np.median(arr)\n",
    "arr_std = np.std(arr)\n",
    "\n",
    "print(f\"Sum: {arr_sum}\")\n",
    "print(f\"Mean: {arr_mean}\")\n",
    "print(f\"Median: {arr_median}\")\n",
    "print(f\"Standard Deviation: {arr_std}\")\n",
    "\n",
    "print(\"===================================================================\")\n",
    "\n",
    "# b. Finding indices of elements greater than 10\n",
    "\n",
    "indices_greater_than_10 = np.where(arr > 10)[0]\n",
    "\n",
    "print(f\"Indices of elements greater than 10: {indices_greater_than_10}\")\n"
   ]
  },
  {
   "cell_type": "markdown",
   "id": "0582c589",
   "metadata": {},
   "source": [
    "<div style=\"background-color:#00008B; color:white; padding:10px; margin:10px 0;\"> This code creates a NumPy array with numbers from 1 to 20. Then, it calculates some important values: the sum, mean (average), median (middle value), and standard deviation (how spread out the numbers are). After that, it finds and shows the positions (indices) of all numbers in the array that are greater than 10. </div>"
   ]
  },
  {
   "cell_type": "markdown",
   "id": "6fdb2628",
   "metadata": {},
   "source": [
    "# ======================================================"
   ]
  },
  {
   "cell_type": "markdown",
   "id": "315be5de",
   "metadata": {},
   "source": [
    "<div style=\"background-color:#4B0082; color:white; padding:10px; margin:10px 0;\">\n",
    "2. Create a 2D NumPy array of shape 4 × 4 with numbers ranging from 1 to 16.<br>\n",
    "&nbsp; a. Print the array.<br>\n",
    "&nbsp; b. Find the transpose of the array.<br>\n",
    "&nbsp; c. Calculate the row-wise and column-wise sums of the array.\n",
    "</div>\n"
   ]
  },
  {
   "cell_type": "code",
   "execution_count": 2,
   "id": "36109118",
   "metadata": {},
   "outputs": [
    {
     "name": "stdout",
     "output_type": "stream",
     "text": [
      "Original 4x4 Array:\n",
      " [[ 1  2  3  4]\n",
      " [ 5  6  7  8]\n",
      " [ 9 10 11 12]\n",
      " [13 14 15 16]]\n",
      "====================================================================\n",
      "\n",
      "Transpose of the Array:\n",
      " [[ 1  5  9 13]\n",
      " [ 2  6 10 14]\n",
      " [ 3  7 11 15]\n",
      " [ 4  8 12 16]]\n",
      "====================================================================\n",
      "\n",
      "Row-wise Sum: [10 26 42 58]\n",
      "Column-wise Sum: [28 32 36 40]\n"
     ]
    }
   ],
   "source": [
    "import numpy as np\n",
    "\n",
    "# (a) Creating a 4x4 NumPy array with values from 1 to 16\n",
    "\n",
    "arr = np.arange(1, 17).reshape(4, 4)\n",
    "print(\"Original 4x4 Array:\\n\", arr)\n",
    "\n",
    "print(\"====================================================================\")\n",
    "\n",
    "# (b) Transposed  the array\n",
    "\n",
    "arr_transpose = arr.T\n",
    "print(\"\\nTranspose of the Array:\\n\", arr_transpose)\n",
    "\n",
    "print(\"====================================================================\")\n",
    "\n",
    "# (c) Row-wise and Column-wise sum\n",
    "\n",
    "row_sums = np.sum(arr, axis=1)                # Sum along rows\n",
    "col_sums = np.sum(arr, axis=0)                # Sum along columns\n",
    "\n",
    "print(\"\\nRow-wise Sum:\", row_sums)\n",
    "print(\"Column-wise Sum:\", col_sums)\n"
   ]
  },
  {
   "cell_type": "markdown",
   "id": "d85050c7",
   "metadata": {},
   "source": [
    "<div style=\"background-color:#00008B; color:white; padding:10px; margin:10px 0;\"> This code creates a 4x4 NumPy array with numbers from 1 to 16 arranged in order. It then finds the transpose of the array, which means flipping rows into columns. After that, it calculates the sum of each row and each column separately and prints these sums. </div>"
   ]
  },
  {
   "cell_type": "markdown",
   "id": "cbee05f8",
   "metadata": {},
   "source": [
    "# ======================================================="
   ]
  },
  {
   "cell_type": "markdown",
   "id": "a3917468",
   "metadata": {},
   "source": [
    "<div style=\"background-color:#4B0082; color:white; padding:10px; margin:10px 0;\">\n",
    "3. Create two 3 × 3 arrays filled with random integers between 1 and 20.<br>\n",
    "&nbsp; a. Perform element-wise addition, subtraction, and multiplication.<br>\n",
    "&nbsp; b. Compute the dot product of the two arrays.\n",
    "</div>\n"
   ]
  },
  {
   "cell_type": "code",
   "execution_count": 3,
   "id": "1af4487a",
   "metadata": {},
   "outputs": [
    {
     "name": "stdout",
     "output_type": "stream",
     "text": [
      "First 3x3 Array:\n",
      " [[ 7 20 15]\n",
      " [11  8  7]\n",
      " [19 11 11]]\n",
      "\n",
      "Second 3x3 Array:\n",
      " [[ 4  8  3]\n",
      " [ 2 12  6]\n",
      " [ 2  1 12]]\n",
      "================================================================\n",
      "\n",
      "Element-wise Addition:\n",
      " [[11 28 18]\n",
      " [13 20 13]\n",
      " [21 12 23]]\n",
      "\n",
      "Element-wise Subtraction:\n",
      " [[ 3 12 12]\n",
      " [ 9 -4  1]\n",
      " [17 10 -1]]\n",
      "\n",
      "Element-wise Multiplication:\n",
      " [[ 28 160  45]\n",
      " [ 22  96  42]\n",
      " [ 38  11 132]]\n",
      "================================================================\n",
      "\n",
      "Dot Product of the Arrays:\n",
      " [[ 98 311 321]\n",
      " [ 74 191 165]\n",
      " [120 295 255]]\n"
     ]
    }
   ],
   "source": [
    "import numpy as np\n",
    "\n",
    "# Creating two 3x3 random integer arrays between 1 and 20\n",
    "\n",
    "np.random.seed(42)  \n",
    "arr1 = np.random.randint(1, 21, (3, 3))\n",
    "arr2 = np.random.randint(1, 21, (3, 3))\n",
    "\n",
    "print(\"First 3x3 Array:\\n\", arr1)\n",
    "print(\"\\nSecond 3x3 Array:\\n\", arr2)\n",
    "\n",
    "print(\"================================================================\")\n",
    "# (a) Element-wise operations\n",
    "\n",
    "addition = arr1 + arr2\n",
    "subtraction = arr1 - arr2\n",
    "multiplication = arr1 * arr2\n",
    "\n",
    "print(\"\\nElement-wise Addition:\\n\", addition)\n",
    "print(\"\\nElement-wise Subtraction:\\n\", subtraction)\n",
    "print(\"\\nElement-wise Multiplication:\\n\", multiplication)\n",
    "\n",
    "print(\"================================================================\")\n",
    "# (b) Dot Product of the two arrays\n",
    "\n",
    "dot_product = np.dot(arr1, arr2)\n",
    "print(\"\\nDot Product of the Arrays:\\n\", dot_product)\n"
   ]
  },
  {
   "cell_type": "markdown",
   "id": "8809573d",
   "metadata": {},
   "source": [
    "<div style=\"background-color:#00008B; color:white; padding:10px; margin:10px 0;\"> This code creates two 3x3 arrays filled with random integers from 1 to 20. Then, it performs element-wise addition, subtraction, and multiplication, which means these operations happen between matching positions in the two arrays. Finally, it calculates the dot product of the two arrays, which is a matrix multiplication giving a new 3x3 array. All results are printed. </div>"
   ]
  },
  {
   "cell_type": "markdown",
   "id": "d279388e",
   "metadata": {},
   "source": [
    "# ==================================================="
   ]
  },
  {
   "cell_type": "markdown",
   "id": "85e0b8cc",
   "metadata": {},
   "source": [
    "<div style=\"background-color:#4B0082; color:white; padding:10px; margin:10px 0;\">\n",
    "4. Reshape a 1D array of size 12 into a 3 × 4 2D array and slice the first two rows and last two columns.\n",
    "</div>\n"
   ]
  },
  {
   "cell_type": "code",
   "execution_count": 5,
   "id": "632aa2d7",
   "metadata": {},
   "outputs": [
    {
     "name": "stdout",
     "output_type": "stream",
     "text": [
      "Original 3x4 Array:\n",
      " [[ 1  2  3  4]\n",
      " [ 5  6  7  8]\n",
      " [ 9 10 11 12]]\n",
      "-------------------------------------------------------------------------\n",
      "\n",
      "Sliced Array (First 2 Rows, Last 2 Columns):\n",
      " [[3 4]\n",
      " [7 8]]\n"
     ]
    }
   ],
   "source": [
    "import numpy as np\n",
    "\n",
    "# Creating a 1D array of size 12\n",
    "\n",
    "arr = np.arange(1, 13)  # [1, 2, 3, ..., 12]\n",
    "\n",
    "# Reshaping it into a 3x4 array\n",
    "\n",
    "arr_2d = arr.reshape(3, 4)\n",
    "print(\"Original 3x4 Array:\\n\", arr_2d)\n",
    "\n",
    "print(\"-------------------------------------------------------------------------\")\n",
    "\n",
    "# Slicing First 2 rows and last 2 columns\n",
    "sliced_part = arr_2d[:2, -2:]\n",
    "print(\"\\nSliced Array (First 2 Rows, Last 2 Columns):\\n\", sliced_part)\n"
   ]
  },
  {
   "cell_type": "markdown",
   "id": "33283fe9",
   "metadata": {},
   "source": [
    "<div style=\"background-color:#00008B; color:white; padding:10px; margin:10px 0;\"> This code first creates a 1D array with numbers 1 to 12. Then, it changes the shape of this array into a 3-row by 4-column 2D array. After that, it slices and extracts the first two rows and the last two columns from this 2D array. Both the full 3x4 array and the sliced part are printed. </div>"
   ]
  },
  {
   "cell_type": "code",
   "execution_count": null,
   "id": "9924e5e7",
   "metadata": {},
   "outputs": [],
   "source": []
  }
 ],
 "metadata": {
  "kernelspec": {
   "display_name": "Python 3 (ipykernel)",
   "language": "python",
   "name": "python3"
  },
  "language_info": {
   "codemirror_mode": {
    "name": "ipython",
    "version": 3
   },
   "file_extension": ".py",
   "mimetype": "text/x-python",
   "name": "python",
   "nbconvert_exporter": "python",
   "pygments_lexer": "ipython3",
   "version": "3.11.5"
  }
 },
 "nbformat": 4,
 "nbformat_minor": 5
}
